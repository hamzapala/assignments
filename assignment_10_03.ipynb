{
 "cells": [
  {
   "cell_type": "code",
   "execution_count": null,
   "metadata": {},
   "outputs": [],
   "source": [
    "# Find out if a given number is an \"Armstrong Number\".\n",
    "\n",
    "# An n-digit number that is the sum of the nth powers of its digits is called an n-Armstrong number. Examples :\n",
    "# 371 = 3**3 + 7**3 + 1**3;\n",
    "# 9474 = 9**4 + 4**4 + 7**4 + 4**4;\n",
    "# 93084 = 9**5 + 3**5 + 0**5 + 8**5 + 4**5.\n",
    "\n",
    "# Write a Python program that;\n",
    "# takes a positive integer number from the user,\n",
    "# checks the entered number if it is Armstrong,\n",
    "# consider the negative, float and any entries other than numeric values then display a warning message to the user."
   ]
  },
  {
   "cell_type": "code",
   "execution_count": 1,
   "metadata": {},
   "outputs": [
    {
     "name": "stdout",
     "output_type": "stream",
     "text": [
      "93084 is an Armstrong number\n"
     ]
    }
   ],
   "source": [
    "amstrong = input(\"is it amstrong number?\")\n",
    "if set(\"0123456789\") | set(amstrong) == set(\"0123456789\") :\n",
    "    toplam = 0\n",
    "    if (int(amstrong) > 0) :\n",
    "        for i in amstrong :\n",
    "            toplam += int(i) ** len(amstrong)\n",
    "        if toplam == int(amstrong) :\n",
    "            print(f\"{amstrong} is an Armstrong number\")\n",
    "        else :\n",
    "            print(f\"{amstrong} is not an Armstrong number\")\n",
    "    else :\n",
    "        print(\"It is an invalid entry. Don't use non-numeric, float, or negative values!(0 is invalid also)\")  # sayı eğer 0 ise\n",
    "\n",
    "else :\n",
    "    print(\"It is an invalid entry. Don't use non-numeric, float, or negative values!\")"
   ]
  },
  {
   "cell_type": "code",
   "execution_count": 2,
   "metadata": {},
   "outputs": [
    {
     "name": "stdout",
     "output_type": "stream",
     "text": [
      "93084 is an Armstrong number\n"
     ]
    }
   ],
   "source": [
    "number = input(\"Please Enter a positive integer number: \")\n",
    "number_list = []  \n",
    "if number.isdigit() == True:\n",
    "    for i in range(len(number)):\n",
    "        number_list.append(int(number[i]) ** len(number))\n",
    "    if sum(number_list) == int(number):\n",
    "        print(number, \"is an Armstrong number\")\n",
    "    else:\n",
    "        print(number, \"is not an Armstrong number\")\n",
    "else:\n",
    "    print(\"It is an invalid entry. Don't use non-numric, float or negative values!\")"
   ]
  }
 ],
 "metadata": {
  "interpreter": {
   "hash": "b89b5cfaba6639976dc87ff2fec6d58faec662063367e2c229c520fe71072417"
  },
  "kernelspec": {
   "display_name": "Python 3.10.0 64-bit",
   "language": "python",
   "name": "python3"
  },
  "language_info": {
   "codemirror_mode": {
    "name": "ipython",
    "version": 3
   },
   "file_extension": ".py",
   "mimetype": "text/x-python",
   "name": "python",
   "nbconvert_exporter": "python",
   "pygments_lexer": "ipython3",
   "version": "3.10.0"
  },
  "orig_nbformat": 4
 },
 "nbformat": 4,
 "nbformat_minor": 2
}

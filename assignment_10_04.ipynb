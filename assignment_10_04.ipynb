{
 "cells": [
  {
   "cell_type": "code",
   "execution_count": null,
   "metadata": {},
   "outputs": [],
   "source": [
    "# Write your Python codes on any IDLE, push it up to your GitHub repository and submit your GitHub Page link address in addition to your code as a plain text.\n",
    "\n",
    "# Task : Write a program that takes a number from the user and prints the result to check if it is a prime number.\n",
    "\n",
    "# The examples of the desired output are as follows :\n",
    "\n",
    "# input →  19 ⇉ output : 19 is a prime number\n",
    "# input →  10 ⇉ output : 10 is not a prime number"
   ]
  },
  {
   "cell_type": "code",
   "execution_count": 1,
   "metadata": {},
   "outputs": [
    {
     "name": "stdout",
     "output_type": "stream",
     "text": [
      "45 sayısı asal sayı değildir.\n"
     ]
    }
   ],
   "source": [
    "sayı = int(input(\"pozitif tamsayı giriniz :\"))\n",
    "sonuç = \"asal sayıdır.\"\n",
    "if sayı <= 1 :\n",
    "    sonuç = \"asal sayı değildir.\"\n",
    "elif sayı == 2 :\n",
    "    sonuç = \"asal sayıdır.\"\n",
    "else :\n",
    "    for i in range(2, sayı) :\n",
    "        if (sayı % i) == 0 :\n",
    "            sonuç = \"asal sayı değildir.\"\n",
    "            break\n",
    "    \n",
    "print(f\"{sayı} sayısı {sonuç}\")"
   ]
  },
  {
   "cell_type": "code",
   "execution_count": null,
   "metadata": {},
   "outputs": [],
   "source": []
  }
 ],
 "metadata": {
  "interpreter": {
   "hash": "b89b5cfaba6639976dc87ff2fec6d58faec662063367e2c229c520fe71072417"
  },
  "kernelspec": {
   "display_name": "Python 3.10.0 64-bit",
   "language": "python",
   "name": "python3"
  },
  "language_info": {
   "codemirror_mode": {
    "name": "ipython",
    "version": 3
   },
   "file_extension": ".py",
   "mimetype": "text/x-python",
   "name": "python",
   "nbconvert_exporter": "python",
   "pygments_lexer": "ipython3",
   "version": "3.10.0"
  },
  "orig_nbformat": 4
 },
 "nbformat": 4,
 "nbformat_minor": 2
}
